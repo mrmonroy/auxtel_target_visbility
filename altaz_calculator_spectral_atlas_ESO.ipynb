{
 "cells": [
  {
   "cell_type": "code",
   "execution_count": null,
   "id": "e712cf42-6483-4c79-9c0e-41b55c0365fd",
   "metadata": {},
   "outputs": [],
   "source": [
    "import matplotlib.pyplot as plt\n",
    "import numpy as np\n",
    "import os\n",
    "\n",
    "from astropy.visualization import astropy_mpl_style, quantity_support\n",
    "\n",
    "plt.style.use(astropy_mpl_style)\n",
    "quantity_support()"
   ]
  },
  {
   "cell_type": "code",
   "execution_count": null,
   "id": "eb315ee9-24af-4ab4-8126-4eb89a1235b5",
   "metadata": {},
   "outputs": [],
   "source": [
    "import astropy.units as u\n",
    "from astropy.coordinates import AltAz, EarthLocation, SkyCoord\n",
    "from astropy.time import Time"
   ]
  },
  {
   "cell_type": "code",
   "execution_count": null,
   "id": "d5974bf8-2e59-4da1-a872-7c4cbf3d8f58",
   "metadata": {},
   "outputs": [],
   "source": [
    "from astroquery.simbad import Simbad"
   ]
  },
  {
   "cell_type": "code",
   "execution_count": null,
   "id": "59e295db-0bd4-4a94-86f9-313a50cf610a",
   "metadata": {},
   "outputs": [],
   "source": [
    "import matplotlib.colors as colors\n",
    "import matplotlib.cm as cmx"
   ]
  },
  {
   "cell_type": "code",
   "execution_count": null,
   "id": "5ffc31df-99e8-469a-afc1-df6c1d7fd345",
   "metadata": {},
   "outputs": [],
   "source": []
  },
  {
   "cell_type": "code",
   "execution_count": null,
   "id": "0bc0eb0a-3fd3-4c68-a456-d8f528af97f3",
   "metadata": {},
   "outputs": [],
   "source": [
    "Simbad.add_votable_fields('sptype')\n",
    "Simbad.add_votable_fields('flux(U)') # add the Vega unit Magnitude \n",
    "Simbad.add_votable_fields('flux(B)') # add the Vega unit Magnitude \n",
    "Simbad.add_votable_fields('flux(V)') # add the Vega unit Magnitude \n",
    "Simbad.add_votable_fields('flux(R)') # add the Vega unit Magnitude \n",
    "Simbad.add_votable_fields('flux(I)') # add the Vega unit Magnitude "
   ]
  },
  {
   "cell_type": "code",
   "execution_count": null,
   "id": "ff7d2252-083a-4c9f-a660-45328365d6c7",
   "metadata": {},
   "outputs": [],
   "source": []
  },
  {
   "cell_type": "code",
   "execution_count": null,
   "id": "1c60e085-4b7a-48d3-a1fd-32c46c6a8b16",
   "metadata": {},
   "outputs": [],
   "source": [
    "def hhmmss2deg(coord):\n",
    "    hh,mm,ss = coord.replace(' ',':').split(':')\n",
    "    hh = float(hh)\n",
    "    mm = float(mm)\n",
    "    ss = float(ss)\n",
    "    H = hh+mm/60.+ss/3600.\n",
    "    deg = H*360./24.\n",
    "    return deg\n",
    "    "
   ]
  },
  {
   "cell_type": "code",
   "execution_count": null,
   "id": "a6a3ad4c-3cab-4807-a77b-10d18fbb3ca4",
   "metadata": {},
   "outputs": [],
   "source": [
    "def degmmss2deg(coord):\n",
    "    deg,mm,ss = coord.replace(' ',':').split(':')\n",
    "    deg = float(deg)\n",
    "    mm = float(mm)\n",
    "    ss = float(ss)\n",
    "    if deg>=0.:\n",
    "        Deg = deg+mm/60.+ss/3600.\n",
    "    else:\n",
    "        Deg = deg-mm/60.-ss/3600.\n",
    "    return Deg\n",
    "    "
   ]
  },
  {
   "cell_type": "code",
   "execution_count": null,
   "id": "9ba63635-57b7-4a00-af20-2a51c4d14b10",
   "metadata": {},
   "outputs": [],
   "source": []
  },
  {
   "cell_type": "code",
   "execution_count": null,
   "id": "551ff1d4-b129-4b62-bab1-5afd62030822",
   "metadata": {},
   "outputs": [],
   "source": [
    "spectral_types = ['O','B','A','F','G','K','M']"
   ]
  },
  {
   "cell_type": "code",
   "execution_count": null,
   "id": "9c37f7b3-e652-4da3-a4fd-145d18665b0b",
   "metadata": {},
   "outputs": [],
   "source": [
    "file_label = 'FIELD_STARS_ACROSS_THE_H-R_DIAGRAM_Type_{0}.csv'"
   ]
  },
  {
   "cell_type": "code",
   "execution_count": null,
   "id": "e8d02668-6a80-47ad-bdc1-e4bb50febddf",
   "metadata": {
    "tags": []
   },
   "outputs": [],
   "source": [
    "pre_targets = []\n",
    "\n",
    "for spec_type_ in spectral_types:\n",
    "    file_ = file_label.format(spec_type_)\n",
    "    targets_file_ = open(os.path.join('spectral_atlases/',file_),'r').readlines()\n",
    "    \n",
    "    for line in targets_file_[1:]:\n",
    "        target_ = line.split(',')[0]\n",
    "        #print(target_)\n",
    "        pre_targets.append(target_.replace(' ',''))"
   ]
  },
  {
   "cell_type": "code",
   "execution_count": null,
   "id": "fc0b14f6-a5e5-416a-a034-9642f505e396",
   "metadata": {},
   "outputs": [],
   "source": [
    "print('Number of initial targets = ', len(pre_targets))"
   ]
  },
  {
   "cell_type": "code",
   "execution_count": null,
   "id": "ee752a69-d103-425a-ac93-a330dfb7b4c6",
   "metadata": {},
   "outputs": [],
   "source": [
    "Simbad.query_object(pre_targets[0])"
   ]
  },
  {
   "cell_type": "code",
   "execution_count": null,
   "id": "db04bff2-e1e8-45b1-9b8d-76deb7ac7a48",
   "metadata": {},
   "outputs": [],
   "source": [
    "Simbad.query_object('HD2811')"
   ]
  },
  {
   "cell_type": "code",
   "execution_count": null,
   "id": "91f36ed8-8d65-4921-ba0b-02ddd0b4f24d",
   "metadata": {
    "scrolled": true,
    "tags": []
   },
   "outputs": [],
   "source": [
    "pre_target_dict = {}\n",
    "print('Target name','  RA  ','  DEC  ','  B  ','  V  ','  B-V  ')\n",
    "for target_ in pre_targets:\n",
    "    target_ = target_.replace('-',' ')\n",
    "    try:\n",
    "        target_info_ = Simbad.query_object(target_)\n",
    "        #print(target_info_)\n",
    "        pre_target_dict[target_] = {}\n",
    "        ra_ = str(target_info_['RA'][0]).replace(' ',':')\n",
    "        dec_ = str(target_info_['DEC'][0]).replace(' ',':')\n",
    "        b_ = float(target_info_['FLUX_B'][0])\n",
    "        v_ = float(target_info_['FLUX_V'][0])\n",
    "        r_ = float(target_info_['FLUX_R'][0])\n",
    "        i_ = float(target_info_['FLUX_I'][0])\n",
    "        b_v_ = b_-v_\n",
    "        r_i_ = r_-i_\n",
    "\n",
    "        print(target_,ra_,dec_,b_,v_,r_,i_,b_v_,r_i_)\n",
    "        add_ = True\n",
    "    except:\n",
    "        #print(target_)\n",
    "        add_ = False\n",
    "        \n",
    "    if add_:\n",
    "        pre_target_dict[target_]['ra'] = ra_\n",
    "        pre_target_dict[target_]['dec'] = dec_\n",
    "        pre_target_dict[target_]['V'] = v_\n",
    "        pre_target_dict[target_]['B'] = b_\n",
    "        pre_target_dict[target_]['R'] = r_\n",
    "        pre_target_dict[target_]['I'] = i_\n",
    "        pre_target_dict[target_]['B_V'] = b_v_\n",
    "        pre_target_dict[target_]['R_I'] = r_i_\n",
    "    "
   ]
  },
  {
   "cell_type": "code",
   "execution_count": null,
   "id": "840f139f-27c0-4203-88d7-fc711927feec",
   "metadata": {
    "tags": []
   },
   "outputs": [],
   "source": []
  },
  {
   "cell_type": "markdown",
   "id": "b796b009-5490-4976-a80d-6e112e6a358c",
   "metadata": {},
   "source": [
    "### Remove targets with no information about V magnitude or V magnitude greater than limit "
   ]
  },
  {
   "cell_type": "code",
   "execution_count": null,
   "id": "ec4bb1aa-0e6f-4b30-842e-4c9d26918d9e",
   "metadata": {},
   "outputs": [],
   "source": [
    "mag_lim1 = 6.0\n",
    "mag_lim2 = 3.0"
   ]
  },
  {
   "cell_type": "code",
   "execution_count": null,
   "id": "93e854b5-2ce4-43e4-818d-e013738f445a",
   "metadata": {},
   "outputs": [],
   "source": [
    "target_dict = {}\n",
    "for target_ in list(pre_target_dict.keys()):\n",
    "    if len(pre_target_dict[target_].keys())!=0:\n",
    "        if np.isnan(pre_target_dict[target_]['V']) or pre_target_dict[target_]['V']>mag_lim1 or pre_target_dict[target_]['V']<mag_lim2 or type(pre_target_dict[target_]['ra'])==np.ma.core.MaskedConstant:\n",
    "            pass\n",
    "        else:\n",
    "            target_dict[target_] = pre_target_dict[target_]\n",
    "targets = list(target_dict.keys())\n",
    "print('Number of targets with {0} < V < {1} = {2}'.format(mag_lim2,mag_lim1,len(targets)))"
   ]
  },
  {
   "cell_type": "code",
   "execution_count": null,
   "id": "bafb0707-5fe7-401d-aed0-30dff42e23e6",
   "metadata": {
    "tags": []
   },
   "outputs": [],
   "source": []
  },
  {
   "cell_type": "code",
   "execution_count": null,
   "id": "7d6a099a-7dde-4745-80d9-4b3c01716357",
   "metadata": {},
   "outputs": [],
   "source": []
  },
  {
   "cell_type": "markdown",
   "id": "8dfe661f-e37e-497a-87ab-bfd4d13b00a8",
   "metadata": {},
   "source": [
    "# Set LSST's location "
   ]
  },
  {
   "cell_type": "code",
   "execution_count": null,
   "id": "e583a863-157d-4865-916e-5f8f89bf7edc",
   "metadata": {},
   "outputs": [],
   "source": [
    "observatory = 'Cerro Pachon'\n",
    "lsst_loc = EarthLocation.of_site(observatory)"
   ]
  },
  {
   "cell_type": "code",
   "execution_count": null,
   "id": "466af293-c2d0-446e-8e8f-1d06761a3299",
   "metadata": {},
   "outputs": [],
   "source": [
    "lsst_loc"
   ]
  },
  {
   "cell_type": "code",
   "execution_count": null,
   "id": "36e47687-ab47-4b73-9f34-02014ab02919",
   "metadata": {},
   "outputs": [],
   "source": [
    "longitude=lsst_loc.lon.degree\n",
    "latitude=lsst_loc.lat.degree\n",
    "altitude=lsst_loc.height\n",
    "print(longitude,latitude,altitude)"
   ]
  },
  {
   "cell_type": "markdown",
   "id": "2f369c79-0625-4bec-9100-7c01425c5149",
   "metadata": {},
   "source": [
    "# Find time zone to which LSST belongs "
   ]
  },
  {
   "cell_type": "code",
   "execution_count": null,
   "id": "29b0ec6b-2a8f-4ab8-919e-7d5d46103e39",
   "metadata": {},
   "outputs": [],
   "source": [
    "import timezonefinder\n",
    "tf = timezonefinder.TimezoneFinder()\n",
    "lsst_timezone_name = tf.certain_timezone_at(lat=latitude, lng=longitude)"
   ]
  },
  {
   "cell_type": "code",
   "execution_count": null,
   "id": "d2af40c9-ce09-4ec9-ad1d-4e3e0b7d2855",
   "metadata": {},
   "outputs": [],
   "source": [
    "print(f\"Time zone at Rubin LSST Observatory: {lsst_timezone_name}\")"
   ]
  },
  {
   "cell_type": "markdown",
   "id": "80bc9adc-c902-4786-8d35-3655401c3145",
   "metadata": {},
   "source": [
    "# Find time offset with respect to UTC time "
   ]
  },
  {
   "cell_type": "code",
   "execution_count": null,
   "id": "19795540-f349-4243-862e-6f42dc417f24",
   "metadata": {},
   "outputs": [],
   "source": [
    "from datetime import datetime\n",
    "import pytz"
   ]
  },
  {
   "cell_type": "markdown",
   "id": "45b94582-7859-4063-86c4-2b9bf72df29b",
   "metadata": {},
   "source": [
    "Create time zone object for LSST's coordinates "
   ]
  },
  {
   "cell_type": "code",
   "execution_count": null,
   "id": "083a6c6e-0157-4989-8dc4-544587dd55e7",
   "metadata": {},
   "outputs": [],
   "source": [
    "lsst_timezone = pytz.timezone(lsst_timezone_name)"
   ]
  },
  {
   "cell_type": "code",
   "execution_count": null,
   "id": "193d4ddf-c7b0-492a-8d1b-b8aa2aa88549",
   "metadata": {},
   "outputs": [],
   "source": [
    "lsst_timezone"
   ]
  },
  {
   "cell_type": "markdown",
   "id": "b6e43a9f-19fb-4d9a-8db9-29c63b438fee",
   "metadata": {},
   "source": [
    "Find UTC offset for LSST's coordinates at present time "
   ]
  },
  {
   "cell_type": "code",
   "execution_count": null,
   "id": "467d3578-69f6-4ebb-8ecb-2173b0c2334f",
   "metadata": {},
   "outputs": [],
   "source": [
    "lsst_time_now = datetime.now(lsst_timezone)\n",
    "lsst_utcoffset = lsst_time_now.utcoffset().total_seconds()/60/60"
   ]
  },
  {
   "cell_type": "code",
   "execution_count": null,
   "id": "aeef7f1c-d000-43a6-bd3b-999d2273e3a3",
   "metadata": {},
   "outputs": [],
   "source": [
    "lsst_utcoffset"
   ]
  },
  {
   "cell_type": "code",
   "execution_count": null,
   "id": "bc8cbe28-159c-4d01-bbc2-921d909e8409",
   "metadata": {},
   "outputs": [],
   "source": []
  },
  {
   "cell_type": "markdown",
   "id": "3a0efee0-024a-4116-83df-3c764e82728b",
   "metadata": {},
   "source": [
    "# Observation date at site "
   ]
  },
  {
   "cell_type": "code",
   "execution_count": null,
   "id": "2a096814-a7f1-4874-beda-e5cfd54e642d",
   "metadata": {},
   "outputs": [],
   "source": [
    "DAY = 13\n",
    "MONTH = 1\n",
    "YEAR = 2025"
   ]
  },
  {
   "cell_type": "code",
   "execution_count": null,
   "id": "48177329-58d1-404f-909d-fffed53848aa",
   "metadata": {},
   "outputs": [],
   "source": [
    "outdir = './targets_{0}-{1:02d}-{2:02d}'.format(YEAR,MONTH,DAY)\n",
    "if os.path.exists(outdir)==False:\n",
    "    os.mkdir(outdir)"
   ]
  },
  {
   "cell_type": "code",
   "execution_count": null,
   "id": "9ffd0ebf-5d2a-4ffe-b040-07546dd7a0b4",
   "metadata": {},
   "outputs": [],
   "source": []
  },
  {
   "cell_type": "markdown",
   "id": "412a823c-9017-4f90-9ab4-7fbb5bd9926f",
   "metadata": {},
   "source": [
    "# Define times with respect to UTC given the UTC offset "
   ]
  },
  {
   "cell_type": "markdown",
   "id": "a60af682-125c-4dcf-9d43-a3cf3f299cf1",
   "metadata": {},
   "source": [
    "## Set midnight at LSST's place "
   ]
  },
  {
   "cell_type": "markdown",
   "id": "d33cd942-0548-4c97-b74b-d70133195dde",
   "metadata": {},
   "source": [
    "Get local midnight time in UTC (i.e. taking into account offset with respect to UTC time) "
   ]
  },
  {
   "cell_type": "code",
   "execution_count": null,
   "id": "6b57bd8a-7178-49f0-92e2-cf9a5a4691ca",
   "metadata": {},
   "outputs": [],
   "source": [
    "midnight_str = '{0}-{1}-{2} 23:59:59'.format(YEAR,MONTH,DAY)\n",
    "midnight_local = Time(midnight_str,location=lsst_loc,precision=2) #The same as midnight_str\n",
    "midnight_utc = Time(midnight_str,scale='utc',location=lsst_loc,precision=2) - lsst_utcoffset*u.hour"
   ]
  },
  {
   "cell_type": "code",
   "execution_count": null,
   "id": "0c3fe301-1aad-48e8-916e-96230d119000",
   "metadata": {},
   "outputs": [],
   "source": [
    "midnight_local"
   ]
  },
  {
   "cell_type": "code",
   "execution_count": null,
   "id": "f9dfcb8c-d243-4dd5-822a-aa14fb0da95c",
   "metadata": {},
   "outputs": [],
   "source": [
    "midnight_utc"
   ]
  },
  {
   "cell_type": "markdown",
   "id": "50ceb2c2-0dcd-45a2-8fec-86cdaaf452ea",
   "metadata": {},
   "source": [
    "## Get local midnight in sidereal time "
   ]
  },
  {
   "cell_type": "code",
   "execution_count": null,
   "id": "9d9d622e-867c-4416-b89c-34b589fedbc2",
   "metadata": {},
   "outputs": [],
   "source": [
    "midnight_sidereal = Time(midnight_str,scale='utc',location=lsst_loc,precision=2).sidereal_time('apparent')"
   ]
  },
  {
   "cell_type": "code",
   "execution_count": null,
   "id": "df3ac482-d3e4-4aac-86a0-19561b790b2c",
   "metadata": {},
   "outputs": [],
   "source": [
    "midnight_sidereal"
   ]
  },
  {
   "cell_type": "code",
   "execution_count": null,
   "id": "7d1822dc-4dc0-49e1-927e-b6acbaf12b05",
   "metadata": {},
   "outputs": [],
   "source": [
    "midnight_sidereal.hourangle"
   ]
  },
  {
   "cell_type": "code",
   "execution_count": null,
   "id": "0eca4245-c374-494f-9526-852540644382",
   "metadata": {},
   "outputs": [],
   "source": []
  },
  {
   "cell_type": "markdown",
   "id": "b60ead0e-0dc7-4b67-8daf-aeb4b425d9fa",
   "metadata": {},
   "source": [
    "### We will show object's altitude as a function of the difference of hours with respect to local midnight "
   ]
  },
  {
   "cell_type": "code",
   "execution_count": null,
   "id": "17ea2a9d-7d23-4b62-be55-0a525b03b6f5",
   "metadata": {},
   "outputs": [],
   "source": [
    "ntimes = 1000"
   ]
  },
  {
   "cell_type": "code",
   "execution_count": null,
   "id": "9e08dca3-910b-42b1-ad86-4443f61904f7",
   "metadata": {},
   "outputs": [],
   "source": [
    "delta_midnight = np.linspace(-12,12,ntimes)*u.hour\n",
    "delta_midnight[:5]"
   ]
  },
  {
   "cell_type": "code",
   "execution_count": null,
   "id": "6b53d168-4eed-4545-b9e6-abe6ea3107e9",
   "metadata": {},
   "outputs": [],
   "source": [
    "alt_frame = AltAz(obstime=midnight_utc+delta_midnight,location=lsst_loc)"
   ]
  },
  {
   "cell_type": "code",
   "execution_count": null,
   "id": "fdacc29a-27a4-4abe-a8eb-f76e0283fa1d",
   "metadata": {
    "tags": []
   },
   "outputs": [],
   "source": [
    "sidereal_times = (midnight_utc+delta_midnight).sidereal_time('apparent')\n",
    "len(sidereal_times)"
   ]
  },
  {
   "cell_type": "code",
   "execution_count": null,
   "id": "6ebc2af2-36ed-4d45-8182-08b766a219b3",
   "metadata": {},
   "outputs": [],
   "source": []
  },
  {
   "cell_type": "code",
   "execution_count": null,
   "id": "7169b3cc-001c-415a-8fd4-8123ad94ff7a",
   "metadata": {},
   "outputs": [],
   "source": []
  },
  {
   "cell_type": "markdown",
   "id": "59ee1ff6-e596-44ea-9422-b81f6085d272",
   "metadata": {},
   "source": [
    "### Get Sun and Moon positions for LSST's frame "
   ]
  },
  {
   "cell_type": "code",
   "execution_count": null,
   "id": "c7ff6eed-cf4d-4a75-8c1b-df4a2924691a",
   "metadata": {},
   "outputs": [],
   "source": [
    "from astropy.coordinates import get_sun\n",
    "from astropy.coordinates import get_body"
   ]
  },
  {
   "cell_type": "code",
   "execution_count": null,
   "id": "b6482405-5e41-4470-befa-bf3ab8cd2445",
   "metadata": {},
   "outputs": [],
   "source": [
    "sun_coords = get_sun(midnight_utc+delta_midnight)\n",
    "sun_altaz = sun_coords.transform_to(alt_frame)\n",
    "\n",
    "moon_coords = get_body(\"moon\", midnight_utc+delta_midnight)\n",
    "moon_altaz = moon_coords.transform_to(alt_frame)"
   ]
  },
  {
   "cell_type": "code",
   "execution_count": null,
   "id": "4884a953-0362-48b2-a99c-2b14aa520b04",
   "metadata": {},
   "outputs": [],
   "source": [
    "alt_sun_deg = sun_altaz.alt\n",
    "alt_moon_deg = moon_altaz.alt"
   ]
  },
  {
   "cell_type": "code",
   "execution_count": null,
   "id": "3294a66d-43b3-4080-aa7b-49a223264f10",
   "metadata": {
    "scrolled": true
   },
   "outputs": [],
   "source": []
  },
  {
   "cell_type": "code",
   "execution_count": null,
   "id": "40677a85-e5c5-4b2f-9f89-15d7e2c23efe",
   "metadata": {},
   "outputs": [],
   "source": [
    "len(alt_sun_deg)"
   ]
  },
  {
   "cell_type": "code",
   "execution_count": null,
   "id": "35fd87e8-4153-4626-9f51-097e2162f383",
   "metadata": {},
   "outputs": [],
   "source": [
    "sun_max_alt = -18*u.deg\n",
    "min_ra = sidereal_times.deg[alt_sun_deg<sun_max_alt][0]\n",
    "max_ra = sidereal_times.deg[alt_sun_deg<sun_max_alt][-1]\n",
    "min_ra,max_ra"
   ]
  },
  {
   "cell_type": "code",
   "execution_count": null,
   "id": "cf6d9647-4789-4697-81d1-fba6fbb280b2",
   "metadata": {},
   "outputs": [],
   "source": [
    "lsst_loc.lat"
   ]
  },
  {
   "cell_type": "code",
   "execution_count": null,
   "id": "fd6ed4fb-1b27-4156-b2fc-9f9ab7e18b7c",
   "metadata": {
    "scrolled": true,
    "tags": []
   },
   "outputs": [],
   "source": []
  },
  {
   "cell_type": "markdown",
   "id": "b20a9a8c-2c31-4542-bf1e-ce963271cc70",
   "metadata": {},
   "source": [
    "### Remove targets with RA,DEC and elevation out of limits "
   ]
  },
  {
   "cell_type": "code",
   "execution_count": null,
   "id": "5fde4580-38c2-45b4-841e-4d934d71bb9b",
   "metadata": {},
   "outputs": [],
   "source": [
    "min_dec = -55.\n",
    "max_dec = -5.\n",
    "max_alt = 80.*u.deg"
   ]
  },
  {
   "cell_type": "code",
   "execution_count": null,
   "id": "ce98464f-0d9f-4e9e-856a-9d2b52163791",
   "metadata": {},
   "outputs": [],
   "source": [
    "type(target_dict[target_]['ra'])=='str'"
   ]
  },
  {
   "cell_type": "code",
   "execution_count": null,
   "id": "a458c8d9-df3f-4297-bac0-19f610ba3dfa",
   "metadata": {
    "tags": []
   },
   "outputs": [],
   "source": [
    "final_target_dict = {}\n",
    "target_coords = {}\n",
    "for target_ in targets:\n",
    "    #print(target_)\n",
    "    #if type(target_dict[target_]['ra'])=='str':\n",
    "    ra_ = hhmmss2deg(target_dict[target_]['ra'])\n",
    "    #else:\n",
    "    #    ra_ = target_dict[target_]['ra']\n",
    "    #if type(target_dict[target_]['dec'])=='str':\n",
    "    dec_ = degmmss2deg(target_dict[target_]['dec'])\n",
    "    #else:\n",
    "    #    dec_ = target_dict[target_]['dec']\n",
    "    \n",
    "    if dec_>=min_dec and dec_<=max_dec and ra_>=min_ra and ra_<=max_ra:\n",
    "        coords_ = SkyCoord(ra_,dec_,unit=\"deg\")\n",
    "        if np.max(coords_.transform_to(alt_frame).alt)<max_alt:\n",
    "            target_coords[target_] = coords_\n",
    "            final_target_dict[target_] = target_dict[target_]\n",
    "    \n",
    "final_targets = list(final_target_dict.keys())"
   ]
  },
  {
   "cell_type": "code",
   "execution_count": null,
   "id": "d6f08636-2900-453a-af21-1e4e145af557",
   "metadata": {},
   "outputs": [],
   "source": [
    "print('Number of remaining targets = ', len(final_targets))"
   ]
  },
  {
   "cell_type": "code",
   "execution_count": null,
   "id": "40a12c8d-1028-4829-814c-437e6edb2d1e",
   "metadata": {
    "scrolled": true
   },
   "outputs": [],
   "source": []
  },
  {
   "cell_type": "code",
   "execution_count": null,
   "id": "fc095702-ace1-4f27-a131-177c0533a435",
   "metadata": {},
   "outputs": [],
   "source": [
    "target_alts = {}\n",
    "for target_ in final_targets:\n",
    "    alt_ = target_coords[target_].transform_to(alt_frame)\n",
    "    target_alts[target_] = alt_.alt"
   ]
  },
  {
   "cell_type": "code",
   "execution_count": null,
   "id": "b33d64a4-5715-4d1b-a206-254d1e172a92",
   "metadata": {
    "tags": []
   },
   "outputs": [],
   "source": []
  },
  {
   "cell_type": "code",
   "execution_count": null,
   "id": "d270aade-3212-4db3-aa09-88c4660e6b67",
   "metadata": {},
   "outputs": [],
   "source": []
  },
  {
   "cell_type": "code",
   "execution_count": null,
   "id": "d57399bd-44aa-4bf8-877c-7988a9b89650",
   "metadata": {},
   "outputs": [],
   "source": []
  },
  {
   "cell_type": "markdown",
   "id": "ed818f8e-26ce-460a-bb48-d7d60b4a4824",
   "metadata": {},
   "source": [
    "# Plot altitude evolution over night "
   ]
  },
  {
   "cell_type": "markdown",
   "id": "bcd2a27e-b37a-41bd-8bc7-522f0a535407",
   "metadata": {},
   "source": [
    "Set hour intervals in UTC and sidereal time "
   ]
  },
  {
   "cell_type": "code",
   "execution_count": null,
   "id": "553891a8-c78f-4d17-862e-7fc78924f68f",
   "metadata": {},
   "outputs": [],
   "source": [
    "delta_ticks = (np.arange(13)*2-12)\n",
    "sidereal_ticks = (midnight_utc+delta_ticks*u.hour).sidereal_time('apparent')\n",
    "print(delta_ticks)\n",
    "print(sidereal_ticks)\n",
    "\n",
    "local_ticks = []\n",
    "utc_ticks = []\n",
    "for dt_ in delta_ticks:\n",
    "    #print(dt_)\n",
    "    if dt_+24<=24:\n",
    "        local_time_ = dt_+24\n",
    "    else:\n",
    "        local_time_ = dt_\n",
    "    local_ticks.append(local_time_)\n",
    "    \n",
    "    if dt_+24+-lsst_utcoffset<=24:\n",
    "        utc_time_ = dt_+24-lsst_utcoffset\n",
    "    else:\n",
    "        utc_time_ = dt_-lsst_utcoffset\n",
    "    utc_ticks.append(utc_time_)\n",
    "    \n",
    "local_ticks = np.array(local_ticks)*u.hour\n",
    "utc_ticks = np.array(utc_ticks)*u.hour\n",
    "print(local_ticks)\n",
    "print(utc_ticks)"
   ]
  },
  {
   "cell_type": "code",
   "execution_count": null,
   "id": "569cf228-f208-45e0-aac5-ee9766b15790",
   "metadata": {
    "tags": []
   },
   "outputs": [],
   "source": []
  },
  {
   "cell_type": "code",
   "execution_count": null,
   "id": "973b3916-445f-42ca-8eef-9cfabb238985",
   "metadata": {},
   "outputs": [],
   "source": []
  },
  {
   "cell_type": "code",
   "execution_count": null,
   "id": "30f734e6-2f88-4540-9a6a-d05fc495888f",
   "metadata": {},
   "outputs": [],
   "source": [
    "plt.style.use('tableau-colorblind10')\n",
    "cmap = plt.get_cmap('jet')\n",
    "cNorm = colors.Normalize(vmin=0, vmax=len(final_targets))\n",
    "scalarMap = cmx.ScalarMappable(norm=cNorm, cmap=cmap)\n",
    "all_colors = scalarMap.to_rgba(np.arange(len(final_targets)), alpha=1)\n",
    "color_dict = {}\n",
    "for i,target_ in enumerate(final_targets):\n",
    "    color_dict[target_] = all_colors[i]"
   ]
  },
  {
   "cell_type": "code",
   "execution_count": null,
   "id": "b6c83890-5ba6-4e92-8295-3eed75284634",
   "metadata": {},
   "outputs": [],
   "source": [
    "\n",
    "fig = plt.figure(figsize=(14,12))\n",
    "ax = fig.add_subplot(111)\n",
    "\n",
    "for i,target_ in enumerate(final_targets):\n",
    "    mag_ = final_target_dict[target_]['V']\n",
    "    color_ = final_target_dict[target_]['B_V']\n",
    "    ax.plot(delta_midnight,target_alts[target_],ls='-',color=color_dict[target_],label='{0}, V={1:.2f}, B-V={2:.2f}'.format(target_,mag_,color_))\n",
    "\n",
    "ax.plot(delta_midnight,alt_sun_deg,ls='--',color='orange',label='Sun')\n",
    "ax.plot(delta_midnight,alt_moon_deg,ls=':',color='darkgrey',label='Moon')\n",
    "ax.set_xticks(delta_ticks)\n",
    "ax.set_xticklabels(labels=local_ticks,rotation=25)\n",
    "ax.set_xlim(-12*u.hour,12*u.hour)\n",
    "ax.set_ylim(0*u.degree,90*u.degree)\n",
    "ax.set_xlabel('{0} local time'.format(lsst_timezone))\n",
    "ax.set_title('Observing run of {0}-{1}-{2}'.format(DAY,MONTH,YEAR))\n",
    "#ax.legend(loc=\"upper right\")\n",
    "\n",
    "\n",
    "ax2 = ax.twiny()\n",
    "ax2.plot([],[],ls='')\n",
    "xticks = ax.get_xticks()\n",
    "ax2.set_xticks(xticks)\n",
    "ax2.set_xticklabels(labels=sidereal_ticks,ha='left',rotation=45)\n",
    "ax2.set_xlim(-12*u.hour,12*u.hour)\n",
    "\n",
    "ax3 = ax.twiny()\n",
    "# Move twinned axis ticks and label from top to bottom\n",
    "ax3.xaxis.set_ticks_position(\"bottom\")\n",
    "ax3.xaxis.set_label_position(\"bottom\")\n",
    "# Offset the twin axis below the host\n",
    "offset = -0.15\n",
    "ax3.spines[\"bottom\"].set_position((\"axes\", offset))\n",
    "ax3.set_frame_on(True)\n",
    "ax3.patch.set_visible(False) # mandatory\n",
    "for sp in ax3.spines.values():\n",
    "    sp.set_visible(False)\n",
    "ax3.spines[\"bottom\"].set_visible(True)\n",
    "\n",
    "ax3.set_xticks(xticks)\n",
    "ax3.set_xticklabels(labels=utc_ticks,rotation=25)\n",
    "ax3.set_xlabel('UTC time')\n",
    "\n",
    "\n",
    "plt.tight_layout()\n",
    "\n",
    "ax.fill_between(delta_midnight, 0*u.deg, 90*u.deg,\n",
    "                 alt_sun_deg < -0*u.deg, color='0.5', zorder=0)\n",
    "ax.fill_between(delta_midnight, 0*u.deg, 90*u.deg,\n",
    "                 alt_sun_deg < -18*u.deg, color='k', zorder=0)"
   ]
  },
  {
   "cell_type": "code",
   "execution_count": null,
   "id": "ce6e7c50-bfad-49ad-918b-969e8a1d8e38",
   "metadata": {},
   "outputs": [],
   "source": [
    "midnight_utc"
   ]
  },
  {
   "cell_type": "code",
   "execution_count": null,
   "id": "aff47d84-4ce0-4cda-a8d5-521573bfc7c0",
   "metadata": {},
   "outputs": [],
   "source": []
  },
  {
   "cell_type": "markdown",
   "id": "5b05fa7c-f757-4b24-85cc-59268c615acb",
   "metadata": {},
   "source": [
    "# Separate blue and red stars "
   ]
  },
  {
   "cell_type": "code",
   "execution_count": null,
   "id": "fdfd7127-33df-497f-9438-ea61a722dd3e",
   "metadata": {
    "scrolled": true
   },
   "outputs": [],
   "source": [
    "blue_targets = []\n",
    "red_targets = []\n",
    "B_V = []\n",
    "\n",
    "for target_ in final_targets:\n",
    "    color_ =  final_target_dict[target_]['B']-final_target_dict[target_]['V']\n",
    "    B_V.append(color_)\n",
    "    if color_<=0.:\n",
    "        blue_targets.append(target_)\n",
    "    else:\n",
    "        red_targets.append(target_)\n",
    "B_V = np.array(B_V)"
   ]
  },
  {
   "cell_type": "code",
   "execution_count": null,
   "id": "76004aa7-2766-43e4-9b46-f47b81df00c9",
   "metadata": {
    "scrolled": true
   },
   "outputs": [],
   "source": []
  },
  {
   "cell_type": "code",
   "execution_count": null,
   "id": "b09d912f-fa0a-4988-87c0-f7faf612137e",
   "metadata": {},
   "outputs": [],
   "source": [
    "fig = plt.figure(figsize=(14,12))\n",
    "ax = fig.add_subplot(111)\n",
    "\n",
    "i = 1\n",
    "for target_ in blue_targets:\n",
    "    mag_ = final_target_dict[target_]['V']\n",
    "    color_ = final_target_dict[target_]['B_V']\n",
    "    if np.max(target_alts[target_])<max_alt:\n",
    "        ax.plot(delta_midnight,target_alts[target_],ls='-',color=color_dict[target_],label='{0}) {1}, V={2:.2f}, B-V={3:.2f}'.format(i,target_,mag_,color_))\n",
    "        ax.text(delta_midnight[target_alts[target_]==np.max(target_alts[target_])],np.max(target_alts[target_])+2*u.deg,i,fontsize=14,color=color_dict[target_])\n",
    "        i+=1\n",
    "\n",
    "ax.plot(delta_midnight,alt_sun_deg,ls='--',color='orange',label='Sun')\n",
    "ax.plot(delta_midnight,alt_moon_deg,ls=':',color='darkgrey',label='Moon')\n",
    "ax.set_xticks(delta_ticks)\n",
    "ax.set_xticklabels(labels=local_ticks,rotation=25)\n",
    "ax.set_xlim(-12*u.hour,12*u.hour)\n",
    "ax.set_ylim(0*u.degree,90*u.degree)\n",
    "ax.set_xlabel('{0} local time'.format(lsst_timezone))\n",
    "ax.set_title('Observing run of {0}-{1}-{2}'.format(DAY,MONTH,YEAR))\n",
    "ax.legend(loc=\"lower right\")\n",
    "\n",
    "\n",
    "ax2 = ax.twiny()\n",
    "ax2.plot([],[],ls='')\n",
    "xticks = ax.get_xticks()\n",
    "ax2.set_xticks(xticks)\n",
    "ax2.set_xticklabels(labels=sidereal_ticks,ha='left',rotation=45)\n",
    "ax2.set_xlim(-12*u.hour,12*u.hour)\n",
    "\n",
    "ax3 = ax.twiny()\n",
    "# Move twinned axis ticks and label from top to bottom\n",
    "ax3.xaxis.set_ticks_position(\"bottom\")\n",
    "ax3.xaxis.set_label_position(\"bottom\")\n",
    "# Offset the twin axis below the host\n",
    "offset = -0.15\n",
    "ax3.spines[\"bottom\"].set_position((\"axes\", offset))\n",
    "ax3.set_frame_on(True)\n",
    "ax3.patch.set_visible(False) # mandatory\n",
    "for sp in ax3.spines.values():\n",
    "    sp.set_visible(False)\n",
    "ax3.spines[\"bottom\"].set_visible(True)\n",
    "\n",
    "ax3.set_xticks(xticks)\n",
    "ax3.set_xticklabels(labels=utc_ticks,rotation=25)\n",
    "ax3.set_xlabel('UTC time')\n",
    "\n",
    "\n",
    "plt.tight_layout()\n",
    "\n",
    "ax.fill_between(delta_midnight, 0*u.deg, 90*u.deg,\n",
    "                 alt_sun_deg < -0*u.deg, color='0.5', zorder=0)\n",
    "ax.fill_between(delta_midnight, 0*u.deg, 90*u.deg,\n",
    "                 alt_sun_deg < -18*u.deg, color='k', zorder=0)"
   ]
  },
  {
   "cell_type": "code",
   "execution_count": null,
   "id": "39ec6fab-702b-4f8e-a041-c0ca4e039e4d",
   "metadata": {},
   "outputs": [],
   "source": []
  },
  {
   "cell_type": "code",
   "execution_count": null,
   "id": "c957126d-9470-4f4f-b0d8-7355205588cd",
   "metadata": {},
   "outputs": [],
   "source": [
    "fig = plt.figure(figsize=(14,12))\n",
    "ax = fig.add_subplot(111)\n",
    "\n",
    "i = 1\n",
    "for target_ in red_targets:\n",
    "    mag_ = final_target_dict[target_]['V']\n",
    "    color_ = final_target_dict[target_]['B_V']\n",
    "    if np.max(target_alts[target_])<max_alt:\n",
    "        ax.plot(delta_midnight,target_alts[target_],ls='-',color=color_dict[target_],label='{0}) {1}, V={2:.2f}, B-V={3:.2f}'.format(i,target_,mag_,color_))\n",
    "        ax.text(delta_midnight[target_alts[target_]==np.max(target_alts[target_])],np.max(target_alts[target_])+2*u.deg,i,fontsize=14,color=color_dict[target_])\n",
    "        i+=1\n",
    "\n",
    "ax.plot(delta_midnight,alt_sun_deg,ls='--',color='orange',label='Sun')\n",
    "ax.plot(delta_midnight,alt_moon_deg,ls=':',color='darkgrey',label='Moon')\n",
    "ax.set_xticks(delta_ticks)\n",
    "ax.set_xticklabels(labels=local_ticks,rotation=25)\n",
    "ax.set_xlim(-12*u.hour,12*u.hour)\n",
    "ax.set_ylim(0*u.degree,90*u.degree)\n",
    "ax.set_xlabel('{0} local time'.format(lsst_timezone))\n",
    "ax.set_title('Observing run of {0}-{1}-{2}'.format(DAY,MONTH,YEAR))\n",
    "ax.legend(loc=\"lower right\")\n",
    "\n",
    "\n",
    "ax2 = ax.twiny()\n",
    "ax2.plot([],[],ls='')\n",
    "xticks = ax.get_xticks()\n",
    "ax2.set_xticks(xticks)\n",
    "ax2.set_xticklabels(labels=sidereal_ticks,ha='left',rotation=45)\n",
    "ax2.set_xlim(-12*u.hour,12*u.hour)\n",
    "\n",
    "ax3 = ax.twiny()\n",
    "# Move twinned axis ticks and label from top to bottom\n",
    "ax3.xaxis.set_ticks_position(\"bottom\")\n",
    "ax3.xaxis.set_label_position(\"bottom\")\n",
    "# Offset the twin axis below the host\n",
    "offset = -0.15\n",
    "ax3.spines[\"bottom\"].set_position((\"axes\", offset))\n",
    "ax3.set_frame_on(True)\n",
    "ax3.patch.set_visible(False) # mandatory\n",
    "for sp in ax3.spines.values():\n",
    "    sp.set_visible(False)\n",
    "ax3.spines[\"bottom\"].set_visible(True)\n",
    "\n",
    "ax3.set_xticks(xticks)\n",
    "ax3.set_xticklabels(labels=utc_ticks,rotation=25)\n",
    "ax3.set_xlabel('UTC time')\n",
    "\n",
    "\n",
    "plt.tight_layout()\n",
    "\n",
    "ax.fill_between(delta_midnight, 0*u.deg, 90*u.deg,\n",
    "                 alt_sun_deg < -0*u.deg, color='0.5', zorder=0)\n",
    "ax.fill_between(delta_midnight, 0*u.deg, 90*u.deg,\n",
    "                 alt_sun_deg < -18*u.deg, color='k', zorder=0)"
   ]
  },
  {
   "cell_type": "code",
   "execution_count": null,
   "id": "084992a2-1d08-48c6-a34d-90c78490d0f3",
   "metadata": {},
   "outputs": [],
   "source": []
  },
  {
   "cell_type": "code",
   "execution_count": null,
   "id": "656bc8ec-3c05-4f89-ac16-d47fb8b2e435",
   "metadata": {},
   "outputs": [],
   "source": [
    "Nredest = 7\n",
    "redest_targets = np.array(final_targets)[B_V.argsort()[::-1]][:Nredest]\n",
    "print(redest_targets)\n",
    "print(B_V[B_V.argsort()[::-1]][:Nredest])"
   ]
  },
  {
   "cell_type": "code",
   "execution_count": null,
   "id": "2b981878-2bd8-4fb3-8e5b-1315ace2b686",
   "metadata": {},
   "outputs": [],
   "source": [
    "fig = plt.figure(figsize=(14,12))\n",
    "ax = fig.add_subplot(111)\n",
    "\n",
    "i = 1\n",
    "for target_ in redest_targets:\n",
    "    mag_ = final_target_dict[target_]['V']\n",
    "    color_ = final_target_dict[target_]['B_V']\n",
    "    if np.max(target_alts[target_])<max_alt:\n",
    "        ax.plot(delta_midnight,target_alts[target_],ls='-',color=color_dict[target_],label='{0}) {1}, V={2:.2f}, B-V={3:.2f}'.format(i,target_,mag_,color_))\n",
    "        ax.text(delta_midnight[target_alts[target_]==np.max(target_alts[target_])],np.max(target_alts[target_])+2*u.deg,i,fontsize=14,color=color_dict[target_])\n",
    "        i+=1\n",
    "\n",
    "ax.plot(delta_midnight,alt_sun_deg,ls='--',color='orange',label='Sun')\n",
    "ax.plot(delta_midnight,alt_moon_deg,ls=':',color='darkgrey',label='Moon')\n",
    "ax.set_xticks(delta_ticks)\n",
    "ax.set_xticklabels(labels=local_ticks,rotation=25)\n",
    "ax.set_xlim(-12*u.hour,12*u.hour)\n",
    "ax.set_ylim(0*u.degree,90*u.degree)\n",
    "ax.set_xlabel('{0} local time'.format(lsst_timezone))\n",
    "ax.set_title('Observing run of {0}-{1}-{2}'.format(DAY,MONTH,YEAR))\n",
    "ax.legend(loc=\"lower right\")\n",
    "\n",
    "\n",
    "ax2 = ax.twiny()\n",
    "ax2.plot([],[],ls='')\n",
    "xticks = ax.get_xticks()\n",
    "ax2.set_xticks(xticks)\n",
    "ax2.set_xticklabels(labels=sidereal_ticks,ha='left',rotation=45)\n",
    "ax2.set_xlim(-12*u.hour,12*u.hour)\n",
    "\n",
    "ax3 = ax.twiny()\n",
    "# Move twinned axis ticks and label from top to bottom\n",
    "ax3.xaxis.set_ticks_position(\"bottom\")\n",
    "ax3.xaxis.set_label_position(\"bottom\")\n",
    "# Offset the twin axis below the host\n",
    "offset = -0.15\n",
    "ax3.spines[\"bottom\"].set_position((\"axes\", offset))\n",
    "ax3.set_frame_on(True)\n",
    "ax3.patch.set_visible(False) # mandatory\n",
    "for sp in ax3.spines.values():\n",
    "    sp.set_visible(False)\n",
    "ax3.spines[\"bottom\"].set_visible(True)\n",
    "\n",
    "ax3.set_xticks(xticks)\n",
    "ax3.set_xticklabels(labels=utc_ticks,rotation=25)\n",
    "ax3.set_xlabel('UTC time')\n",
    "\n",
    "\n",
    "plt.tight_layout()\n",
    "\n",
    "ax.fill_between(delta_midnight, 0*u.deg, 90*u.deg,\n",
    "                 alt_sun_deg < -0*u.deg, color='0.5', zorder=0)\n",
    "ax.fill_between(delta_midnight, 0*u.deg, 90*u.deg,\n",
    "                 alt_sun_deg < -18*u.deg, color='k', zorder=0)"
   ]
  },
  {
   "cell_type": "code",
   "execution_count": null,
   "id": "f7133408-cf95-4ed3-9d33-292b5973bd1e",
   "metadata": {},
   "outputs": [],
   "source": []
  },
  {
   "cell_type": "code",
   "execution_count": null,
   "id": "8e03f1e3-800c-47e6-a1ab-8a242f3f69ec",
   "metadata": {},
   "outputs": [],
   "source": []
  },
  {
   "cell_type": "code",
   "execution_count": null,
   "id": "e221603a-4ba2-4a75-9b94-542bf11cadb8",
   "metadata": {},
   "outputs": [],
   "source": []
  },
  {
   "cell_type": "code",
   "execution_count": null,
   "id": "8ef4c3aa-dd93-42fb-8c80-627bf8d68124",
   "metadata": {},
   "outputs": [],
   "source": []
  },
  {
   "cell_type": "code",
   "execution_count": null,
   "id": "b0a7eecd-1bd2-4251-89cb-9e5b056b543e",
   "metadata": {},
   "outputs": [],
   "source": [
    "#target_selection = ['HD92055','HD123934','HD138716','HD156274','HD196171']\n",
    "#target_selection = ['HD89736','HD123934','HD138716','HD156274','HD109931','HD189340','HD121416']\n",
    "#target_selection = ['HD109931','HD121416','HD146233','HD138716','HD156274','HD189340','HD212320']\n",
    "target_selection = redest_targets"
   ]
  },
  {
   "cell_type": "markdown",
   "id": "0b02176e-e6f3-4c65-b560-5499552a57a7",
   "metadata": {},
   "source": [
    "### Include CALSPEC targets "
   ]
  },
  {
   "cell_type": "code",
   "execution_count": null,
   "id": "27d6b8d9-4668-4e92-9c37-415fab9d5066",
   "metadata": {},
   "outputs": [],
   "source": [
    "calspec_targets = ['HD34816']"
   ]
  },
  {
   "cell_type": "code",
   "execution_count": null,
   "id": "95668961-3e8d-495c-b0a4-b7510caa2758",
   "metadata": {},
   "outputs": [],
   "source": [
    "target_selection = list(target_selection)+calspec_targets\n",
    "#target_selection.sort()\n",
    "target_selection,len(target_selection)"
   ]
  },
  {
   "cell_type": "code",
   "execution_count": null,
   "id": "189363bf-8c07-42b2-a2d0-91b81d776111",
   "metadata": {},
   "outputs": [],
   "source": [
    "print('Target name','  RA  ','  DEC  ','  B  ','  V  ','  B-V  ')\n",
    "for target_ in calspec_targets:\n",
    "    target_ = target_.replace('-',' ')\n",
    "    try:\n",
    "        target_info_ = Simbad.query_object(target_)\n",
    "        print(target_info_)\n",
    "        final_target_dict[target_] = {}\n",
    "        ra_ = str(target_info_['RA'][0]).replace(' ',':')\n",
    "        ra_ = hhmmss2deg(ra_)\n",
    "        dec_ = str(target_info_['DEC'][0]).replace(' ',':')\n",
    "        dec_ = degmmss2deg(dec_)\n",
    "        b_ = float(target_info_['FLUX_B'][0])\n",
    "        v_ = float(target_info_['FLUX_V'][0])\n",
    "        r_ = float(target_info_['FLUX_R'][0])\n",
    "        i_ = float(target_info_['FLUX_I'][0])\n",
    "        b_v_ = b_-v_\n",
    "        r_i_ = r_-i_\n",
    "\n",
    "        print(target_,ra_,dec_,b_,v_,r_,i_,b_v_,r_i_)\n",
    "        add_ = True\n",
    "    except:\n",
    "        print(target_)\n",
    "        add_ = False\n",
    "        \n",
    "    if add_:\n",
    "        final_target_dict[target_]['ra'] = ra_\n",
    "        final_target_dict[target_]['dec'] = dec_\n",
    "        final_target_dict[target_]['V'] = v_\n",
    "        final_target_dict[target_]['B'] = b_\n",
    "        final_target_dict[target_]['R'] = r_\n",
    "        final_target_dict[target_]['I'] = i_\n",
    "        final_target_dict[target_]['B_V'] = b_v_\n",
    "        final_target_dict[target_]['R_I'] = r_i_\n",
    "        \n",
    "        #ra_ = hhmmss2deg(str(ra_))\n",
    "        #dec_ = degmmss2deg(str(dec_))\n",
    "        if dec_>=min_dec and dec_<=max_dec and ra_>=min_ra and ra_<=max_ra:\n",
    "            coords_ = SkyCoord(ra_,dec_,unit=\"deg\")\n",
    "            target_coords[target_] = coords_\n",
    "            \n",
    "            alt_ = coords_.transform_to(alt_frame)\n",
    "            target_alts[target_] = alt_.alt\n",
    "            "
   ]
  },
  {
   "cell_type": "code",
   "execution_count": null,
   "id": "7afee90c-2d6c-4334-ac7f-9f42496854fe",
   "metadata": {},
   "outputs": [],
   "source": []
  },
  {
   "cell_type": "code",
   "execution_count": null,
   "id": "1d044f70-c8fa-4d5e-aa39-4539d3b66af5",
   "metadata": {},
   "outputs": [],
   "source": [
    "cmap_final = plt.get_cmap('jet')\n",
    "cNorm_final = colors.Normalize(vmin=0, vmax=len(target_selection))\n",
    "scalarMap_final = cmx.ScalarMappable(norm=cNorm_final, cmap=cmap_final)\n",
    "all_colors_final = scalarMap_final.to_rgba(np.arange(len(target_selection)), alpha=1)\n",
    "color_dict_final = {}\n",
    "for i,target_ in enumerate(target_selection):\n",
    "    color_dict_final[target_] = all_colors_final[i]"
   ]
  },
  {
   "cell_type": "code",
   "execution_count": null,
   "id": "692eb9a3-8894-4050-8dc1-f11f848b1dc2",
   "metadata": {},
   "outputs": [],
   "source": [
    "fig = plt.figure(figsize=(14,12))\n",
    "ax = fig.add_subplot(111)\n",
    "\n",
    "i = 1\n",
    "for target_ in target_selection:\n",
    "    mag_ = final_target_dict[target_]['V']\n",
    "    color_ = final_target_dict[target_]['B_V']\n",
    "    if target_ in calspec_targets:\n",
    "        ls_ = '-'\n",
    "    else:\n",
    "        ls_ = '--'\n",
    "    if np.max(target_alts[target_])<max_alt:\n",
    "        ax.plot(delta_midnight,target_alts[target_],ls=ls_,color=color_dict_final[target_],label='{0}) {1}, V={2:.2f}, B-V={3:.2f}'.format(i,target_,mag_,color_))\n",
    "        ax.text(delta_midnight[target_alts[target_]==np.max(target_alts[target_])],np.max(target_alts[target_])+2*u.deg,i,fontsize=18,color=color_dict_final[target_])\n",
    "        i+=1\n",
    "        \n",
    "ax.plot(delta_midnight,alt_sun_deg,ls=':',color='orange',label='Sun')\n",
    "ax.plot(delta_midnight,alt_moon_deg,ls=':',color='darkgrey',label='Moon')\n",
    "ax.set_xticks(delta_ticks)\n",
    "ax.set_xticklabels(labels=local_ticks,rotation=25,fontsize=14)\n",
    "ax.set_xlim(-12*u.hour,12*u.hour)\n",
    "ax.set_ylim(0*u.degree,90*u.degree)\n",
    "ax.set_xlabel('{0} local time'.format(lsst_timezone),fontsize=18)\n",
    "ax.set_ylabel('Elevation [deg]',fontsize=18)\n",
    "ax.set_title('AuxTel observing run of {0}-{1}-{2}'.format(DAY,MONTH,YEAR),fontsize=24)\n",
    "ax.legend(loc=\"lower right\")\n",
    "\n",
    "\n",
    "ax2 = ax.twiny()\n",
    "ax2.plot([],[],ls='')\n",
    "xticks = ax.get_xticks()\n",
    "ax2.set_xticks(xticks)\n",
    "ax2.set_xticklabels(labels=sidereal_ticks,ha='left',rotation=45,fontsize=14)\n",
    "ax2.set_xlim(-12*u.hour,12*u.hour)\n",
    "ax2.set_xlabel('Local sidereal time',fontsize=18)\n",
    "\n",
    "ax3 = ax.twiny()\n",
    "# Move twinned axis ticks and label from top to bottom\n",
    "ax3.xaxis.set_ticks_position(\"bottom\")\n",
    "ax3.xaxis.set_label_position(\"bottom\")\n",
    "# Offset the twin axis below the host\n",
    "offset = -0.15\n",
    "ax3.spines[\"bottom\"].set_position((\"axes\", offset))\n",
    "ax3.set_frame_on(True)\n",
    "ax3.patch.set_visible(False) # mandatory\n",
    "for sp in ax3.spines.values():\n",
    "    sp.set_visible(False)\n",
    "ax3.spines[\"bottom\"].set_visible(True)\n",
    "\n",
    "ax3.set_xticks(xticks)\n",
    "ax3.set_xticklabels(labels=utc_ticks,rotation=25,fontsize=14)\n",
    "ax3.set_xlabel('UTC time', fontsize=18)\n",
    "\n",
    "ax.fill_between(delta_midnight, 0*u.deg, 90*u.deg,\n",
    "                 alt_sun_deg < -0*u.deg, color='0.5', zorder=0)\n",
    "ax.fill_between(delta_midnight, 0*u.deg, 90*u.deg,\n",
    "                 alt_sun_deg < -18*u.deg, color='k', zorder=0)\n",
    "\n",
    "plt.tight_layout()\n",
    "plt.savefig(os.path.join(outdir,'targets_{0}-{1}-{2}_alt-time.png'.format(DAY,MONTH,YEAR)))"
   ]
  },
  {
   "cell_type": "code",
   "execution_count": null,
   "id": "60b7a319-c3f5-4c31-bdeb-bb80bc82e5af",
   "metadata": {},
   "outputs": [],
   "source": []
  },
  {
   "cell_type": "code",
   "execution_count": null,
   "id": "3cd9ea81-81ee-4baf-a874-13881676ea0d",
   "metadata": {},
   "outputs": [],
   "source": [
    "def makePolarPlot(azimuthsInDegrees, zenithAngles, marker=\".\",ax=None,\n",
    "                       title=None, color=None, objName=None,lw=0.5):\n",
    "    if ax==None:\n",
    "        _ = plt.figure(figsize=(20, 10))\n",
    "        ax = plt.subplot(111, polar=True)\n",
    "        \n",
    "    ax.plot([a*np.pi/180 for a in azimuthsInDegrees], zenithAngles, marker, c=color, label=objName,lw=lw)\n",
    "    if title:\n",
    "        ax.set_title(title, va='bottom')\n",
    "    ax.set_theta_zero_location(\"N\")\n",
    "    ax.set_theta_direction(-1)\n",
    "    ax.set_rlim(0, 90)\n",
    "    return ax"
   ]
  },
  {
   "cell_type": "code",
   "execution_count": null,
   "id": "a181d2b0-c6b9-4b1e-bf49-1203a8dcf9aa",
   "metadata": {},
   "outputs": [],
   "source": [
    "darktime_mask = alt_sun_deg < -18*u.deg"
   ]
  },
  {
   "cell_type": "code",
   "execution_count": null,
   "id": "18582fe3-b472-4a9c-9d23-bfde815fe47b",
   "metadata": {},
   "outputs": [],
   "source": []
  },
  {
   "cell_type": "code",
   "execution_count": null,
   "id": "efdd10ed-a8e3-4e47-948f-529bf6868d25",
   "metadata": {},
   "outputs": [],
   "source": [
    "fig = plt.figure(figsize=(10, 10))\n",
    "\n",
    "ax = fig.add_subplot(111, polar=True)\n",
    "\n",
    "# compute zenith and azimuth angles\n",
    "az_moon_deg = moon_altaz.az.deg\n",
    "zen_moon_deg = moon_altaz.zen.deg\n",
    "\n",
    "az_moon_deg_night = az_moon_deg[darktime_mask]\n",
    "zen_moon_deg_night = zen_moon_deg[darktime_mask]\n",
    "ax=makePolarPlot(az_moon_deg_night, zen_moon_deg_night,ax=ax ,marker=\".-\",title=None, color = \"darkgrey\",objName=\"Moon\",lw=8)\n",
    "\n",
    "\n",
    "for target_ in target_selection:\n",
    "    \n",
    "    target_altaz_ = target_coords[target_].transform_to(alt_frame)\n",
    "    az_target_deg_ = target_altaz_.az.deg\n",
    "    zen_target_deg_ = target_altaz_.zen.deg\n",
    "    \n",
    "    az_target_deg_night_ = az_target_deg_[darktime_mask]\n",
    "    zen_target_deg_night_ = zen_target_deg_[darktime_mask]\n",
    "    \n",
    "    \n",
    "    ax=makePolarPlot(az_target_deg_, zen_target_deg_,ax=ax, marker=\"--\",title=None, color=color_dict_final[target_], lw=0.5)\n",
    "    ax=makePolarPlot(az_target_deg_night_, zen_target_deg_night_,ax=ax ,marker=\"*-\",title=None, color=color_dict_final[target_],objName=target_,lw=0.5)\n",
    "    \n",
    "\n",
    "ax.legend(bbox_to_anchor=(1.08, 1), prop={'size': 15}, loc='upper left')\n",
    "ax.set_theta_zero_location(\"N\")\n",
    "ax.set_theta_direction(-1)\n",
    "ax.set_rlim(0, 90)\n",
    "ax.set_xticklabels(['N', '', 'E', '', 'S', '', 'W', ''])\n",
    "ax.set_title('AuxTel observing run of {0}-{1}-{2}'.format(DAY,MONTH,YEAR),fontsize=18)\n",
    "plt.savefig(os.path.join(outdir,'targets_{0}-{1}-{2}_az-zen.png'.format(DAY,MONTH,YEAR)))"
   ]
  },
  {
   "cell_type": "code",
   "execution_count": null,
   "id": "c00acf3c-4815-4fb5-a6b6-d5984e8d3da2",
   "metadata": {},
   "outputs": [],
   "source": []
  },
  {
   "cell_type": "code",
   "execution_count": null,
   "id": "bef522cc-ea32-4f1f-ab93-0ea7b7ae6c5d",
   "metadata": {},
   "outputs": [],
   "source": []
  },
  {
   "cell_type": "markdown",
   "id": "98a10ee4-78af-43bc-8c2b-224bed7f516e",
   "metadata": {},
   "source": [
    "# Exposure time calculations "
   ]
  },
  {
   "cell_type": "code",
   "execution_count": null,
   "id": "2e03951f-4cfa-4b31-b4ee-9dd88a8cfc76",
   "metadata": {},
   "outputs": [],
   "source": [
    "(3000-1390)/2.69"
   ]
  },
  {
   "cell_type": "code",
   "execution_count": null,
   "id": "52c6e7f3-4e88-43d5-994f-a098d8a4ea71",
   "metadata": {},
   "outputs": [],
   "source": [
    "# lambda_eff in units of pixel \n",
    "pix_factor = 2.69\n",
    "pix0 = 1390\n",
    "lambda_eff_b = int(445*pix_factor)+pix0\n",
    "lambda_eff_v = int(551*pix_factor)+pix0\n",
    "lambda_eff_r = int(658*pix_factor)+pix0\n",
    "lambda_eff_i = int(806*pix_factor)+pix0\n",
    "lambda_eff_b,lambda_eff_v,lambda_eff_r,lambda_eff_i"
   ]
  },
  {
   "cell_type": "code",
   "execution_count": null,
   "id": "47af640e-9307-4b01-b037-e66f15fdd876",
   "metadata": {},
   "outputs": [],
   "source": [
    "def calc_int_adu(mag1,mag2,F1):\n",
    "    F2 = F1*10.**((mag1-mag2)/2.5)\n",
    "    return F2"
   ]
  },
  {
   "cell_type": "code",
   "execution_count": null,
   "id": "1142ccef-d77b-47d4-9ee8-3db7b77309e2",
   "metadata": {},
   "outputs": [],
   "source": [
    "lambda_eff_v"
   ]
  },
  {
   "cell_type": "code",
   "execution_count": null,
   "id": "cf02c539-8633-4177-88d9-2a64a2298ec7",
   "metadata": {},
   "outputs": [],
   "source": [
    "t_exp_ref = 30.\n",
    "v_mag_ref = 7.5\n",
    "int_adu_v_ref = 1149531.8699951172\n",
    "num_pix_v = 473"
   ]
  },
  {
   "cell_type": "code",
   "execution_count": null,
   "id": "55a28a7a-755b-4943-b2e4-d36c3b3d8fdd",
   "metadata": {},
   "outputs": [],
   "source": []
  },
  {
   "cell_type": "code",
   "execution_count": null,
   "id": "fbe8ec07-bcbb-4b2e-8055-cc538772d829",
   "metadata": {},
   "outputs": [],
   "source": [
    "saturation = 100000 #ADU/pix \n",
    "goal_adu = 10000 #ADU/pixel\n",
    "t_exp = 30. #s\n",
    "Nposs = 17"
   ]
  },
  {
   "cell_type": "code",
   "execution_count": null,
   "id": "0a31601a-611a-4e37-bf0d-7f027db0c797",
   "metadata": {},
   "outputs": [],
   "source": [
    "file1 = open(os.path.join(outdir,'target_exptime_{0}-{1}-{2}.txt'.format(DAY,MONTH,YEAR)),'w')\n",
    "string0 = 'Target    V \\t B-V \\t Int./pix (30s)  Int./pix/s \\t Meets goal \\t Saturates \\t N_exp ({0}s) \\t Total time \\n'.format(t_exp)\n",
    "print(string0)\n",
    "file1.write(string0)\n",
    "for target_ in target_selection:\n",
    "    adu_pix_ = calc_int_adu(v_mag_ref,final_target_dict[target_]['V'],int_adu_v_ref)/num_pix_v\n",
    "    #adu_pix_ = np.round(adu_pix_)\n",
    "    v_ = np.round(final_target_dict[target_]['V'],2)\n",
    "    b_v_ = np.round(final_target_dict[target_]['B_V'],2)\n",
    "    adu_pix_s_ = adu_pix_/t_exp_ref \n",
    "\n",
    "    good_ = adu_pix_>=goal_adu\n",
    "    saturates_ = adu_pix_>=saturation\n",
    "    \n",
    "    Nexp_ = int(np.round(saturation/adu_pix_,0))\n",
    "    total_time_ = Nexp_*t_exp*Nposs\n",
    "    \n",
    "    string_ = '{0}   {1:.2f} \\t {2:.2f} \\t {3:.2f} \\t {4:.2f} \\t {5} \\t \\t {6} \\t \\t {7} \\t \\t {8:.2f}s \\n'.format(target_,v_,b_v_,adu_pix_,adu_pix_s_,good_,saturates_,Nexp_,total_time_)\n",
    "    print(string_)\n",
    "    file1.write(string_)\n",
    "file1.close()"
   ]
  },
  {
   "cell_type": "code",
   "execution_count": null,
   "id": "f96de7b5-aeda-4cf1-af19-1020e0a3862b",
   "metadata": {},
   "outputs": [],
   "source": [
    "string0 = 'Target \\t ADU/pix (30s) \\t t_exp (s) \\t N_exp \\t Total time (s) \\n'.format(t_exp)\n",
    "print(string0)\n",
    "for target_ in target_selection:\n",
    "    adu_pix_ = int(np.round(calc_int_adu(v_mag_ref,final_target_dict[target_]['V'],int_adu_v_ref)/num_pix_v,0))\n",
    "    \n",
    "    Nexp_ = int(np.round(saturation/adu_pix_,0))\n",
    "    total_time_ = Nexp_*int(t_exp)*Nposs\n",
    "    \n",
    "    string_ = '{0} \\t {1} \\t {2} \\t {3} \\t {4} \\n'.format(target_,adu_pix_,int(t_exp),Nexp_,total_time_)\n",
    "    print(string_)\n",
    "    \n"
   ]
  },
  {
   "cell_type": "code",
   "execution_count": null,
   "id": "0ce3650e-db2f-422a-b144-a5fb388e2479",
   "metadata": {},
   "outputs": [],
   "source": [
    "file2 = open(os.path.join(outdir,'target_coords_{0}-{1}-{2}.txt'.format(DAY,MONTH,YEAR)),'w')\n",
    "string0 = 'Target \\t  RA \\t \\t  DEC \\t \\t   V \\t  B-V \\n'\n",
    "print(string0)\n",
    "file2.write(string0)\n",
    "for target_ in target_selection:\n",
    "    h_,m_,s_ = target_coords[target_].ra.hms\n",
    "    ra_ = '{0:02d}:{1}:{2:.4f}'.format(int(h_),int(m_),s_)\n",
    "    d_,m_,s_ = target_coords[target_].dec.dms\n",
    "    if d_<0.:\n",
    "        d_ = '-{0:02d}'.format(np.abs(int(d_)))\n",
    "    else:\n",
    "        d_ = '{0:02d}'.format(int(d_))\n",
    "    if np.abs(s_)<10.:\n",
    "        dec_ = '{0}:{1}:0{2:.4f}'.format(d_,int(np.abs(m_)),np.abs(s_))\n",
    "    else:\n",
    "        dec_ = '{0}:{1}:{2:.4f}'.format(d_,int(np.abs(m_)),np.abs(s_))\n",
    "    v_ = np.round(final_target_dict[target_]['V'],2)\n",
    "    b_v_ = np.round(final_target_dict[target_]['B_V'],2)\n",
    "    \n",
    "    string_ = '{0}   {1}   {2}   {3:.2f}   {4:.2f} \\n'.format(target_,ra_,dec_,v_,b_v_)\n",
    "    print(string_)\n",
    "    file2.write(string_)\n",
    "file2.close()"
   ]
  },
  {
   "cell_type": "code",
   "execution_count": null,
   "id": "5bf0add2-4f07-467c-bd12-5976196fc3a6",
   "metadata": {
    "scrolled": true
   },
   "outputs": [],
   "source": []
  },
  {
   "cell_type": "code",
   "execution_count": null,
   "id": "9b9529e9-6012-4215-8514-d401368d21f7",
   "metadata": {},
   "outputs": [],
   "source": [
    "from mpl_toolkits.mplot3d import Axes3D"
   ]
  },
  {
   "cell_type": "code",
   "execution_count": null,
   "id": "f8f0cafa-2d78-4d55-8400-58f93d382c40",
   "metadata": {},
   "outputs": [],
   "source": [
    "#%matplotlib widget\n",
    "fig = plt.figure()\n",
    "ax = fig.add_subplot(projection='3d')\n",
    "\n",
    "r = 1\n",
    "\n",
    "alts = np.arange(0.,90.,10)*np.pi/180.\n",
    "azs = np.arange(0.,360.,1)*np.pi/180.\n",
    "\n",
    "for alt_ in alts:\n",
    "    x_ = r*np.cos(azs)*np.cos(alt_)\n",
    "    y_ = r*np.sin(azs)*np.cos(alt_)\n",
    "    z_ = r*np.sin(alt_)\n",
    "    ax.plot(x_,y_,z_,ls='-',color='grey',lw='0.1')\n",
    "    #ax.plot(x_,y_)\n",
    "\n",
    "alts = np.arange(0.,90.,1)*np.pi/180.\n",
    "azs = np.arange(0.,360.,20)*np.pi/180.\n",
    "\n",
    "for az_ in azs:\n",
    "    x_ = r*np.cos(az_)*np.cos(alts)\n",
    "    y_ = r*np.sin(az_)*np.cos(alts)\n",
    "    z_ = r*np.sin(alts)\n",
    "    ax.plot(x_,y_,z_,ls='-',color='grey',lw='0.1')\n",
    "    #ax.plot(x_,y_)\n",
    "\n",
    "\n",
    "# compute zenith and azimuth angles\n",
    "az_moon = moon_altaz.az.radian\n",
    "alt_moon = moon_altaz.alt.radian\n",
    "\n",
    "az_moon_night = az_moon[darktime_mask]\n",
    "alt_moon_night = alt_moon[darktime_mask]\n",
    "\n",
    "alt_mask = alt_moon_night>=0.\n",
    "\n",
    "az_moon_vis = az_moon_night[alt_mask]\n",
    "alt_moon_vis = alt_moon_night[alt_mask]\n",
    "\n",
    "xmoon = r*np.cos(az_moon_vis)*np.cos(alt_moon_vis)\n",
    "ymoon = r*np.sin(az_moon_vis)*np.cos(alt_moon_vis)\n",
    "zmoon = r*np.sin(alt_moon_vis)\n",
    "\n",
    "ax.plot(xmoon,ymoon,zmoon,ls='-',marker='',color='darkgrey',label='Moon',lw=8)\n",
    "\n",
    "for target_ in target_selection:\n",
    "    \n",
    "    target_altaz_ = target_coords[target_].transform_to(alt_frame)\n",
    "    az_target_ = target_altaz_.az.radian\n",
    "    alt_target_ = target_altaz_.alt.radian\n",
    "    \n",
    "    az_target_night_ = az_target_[darktime_mask]\n",
    "    alt_target_night_ = alt_target_[darktime_mask]\n",
    "\n",
    "    alt_mask_ = alt_target_night_>=0.\n",
    "    \n",
    "    az_target_vis_ = az_target_night_[alt_mask_]\n",
    "    alt_target_vis_ = alt_target_night_[alt_mask_]\n",
    "    \n",
    "    x_ = r*np.cos(az_target_vis_)*np.cos(alt_target_vis_)\n",
    "    y_ = r*np.sin(az_target_vis_)*np.cos(alt_target_vis_)\n",
    "    z_ = r*np.sin(alt_target_vis_)\n",
    "    \n",
    "    ax.plot(x_,y_,z_,ls='-',marker=\"*\",color=color_dict_final[target_],lw=0.25,label=target_)\n",
    "    #ax=makePolarPlot(az_target_deg_, zen_target_deg_,ax=ax, marker=\"--\",title=None, color=color_dict_final[target_], lw=0.5)\n",
    "    #ax=makePolarPlot(az_target_deg_night_, zen_target_deg_night_,ax=ax ,marker=\"*-\",title=None, color=color_dict_final[target_],objName=target_,lw=0.5)\n",
    "    \n",
    "\n",
    "ax.set_xlim(-1.,1.)\n",
    "ax.set_ylim(-1.,1.)\n",
    "ax.set_zlim(0.,)\n",
    "ax.legend(loc=\"best\",fontsize=10)\n"
   ]
  },
  {
   "cell_type": "code",
   "execution_count": null,
   "id": "aa13c72f-6855-4e49-99e0-02c576df3762",
   "metadata": {},
   "outputs": [],
   "source": []
  },
  {
   "cell_type": "code",
   "execution_count": null,
   "id": "ecf60aa1-9c8f-4257-b274-57158e87f9d5",
   "metadata": {},
   "outputs": [],
   "source": [
    "from ipyaladin import Aladin\n",
    "from sidecar import Sidecar"
   ]
  },
  {
   "cell_type": "code",
   "execution_count": null,
   "id": "5328d2e8-c0fc-45f4-958d-25cd055d020a",
   "metadata": {},
   "outputs": [],
   "source": [
    "from astropy.coordinates import Angle"
   ]
  },
  {
   "cell_type": "code",
   "execution_count": null,
   "id": "815f197f-6f95-4d0c-8760-807c309929eb",
   "metadata": {},
   "outputs": [],
   "source": [
    "aladin = Aladin()\n",
    "with Sidecar(title=\"aladin_output\"):\n",
    "    display(aladin)"
   ]
  },
  {
   "cell_type": "code",
   "execution_count": null,
   "id": "6f1dfaf1-f8dc-4f73-9c13-32f9a9b79cc5",
   "metadata": {},
   "outputs": [],
   "source": [
    "aladin.fov = Angle(6.3 * u.arcmin)"
   ]
  },
  {
   "cell_type": "code",
   "execution_count": null,
   "id": "e4e02ec2-e2d1-4467-b553-dc99f061dd1a",
   "metadata": {},
   "outputs": [],
   "source": [
    "print(len(target_selection))"
   ]
  },
  {
   "cell_type": "code",
   "execution_count": null,
   "id": "120d1619-0a9e-4193-90ad-8cf64c1e00da",
   "metadata": {},
   "outputs": [],
   "source": [
    "view_target = 0\n",
    "aladin.target = target_coords[target_selection[view_target]]"
   ]
  },
  {
   "cell_type": "code",
   "execution_count": null,
   "id": "6ee92dab-0ad1-4cb9-b29b-06ca708a603b",
   "metadata": {},
   "outputs": [],
   "source": []
  },
  {
   "cell_type": "code",
   "execution_count": null,
   "id": "1b91e3e1-97c9-4ce5-8c20-2bb606afc1de",
   "metadata": {},
   "outputs": [],
   "source": []
  },
  {
   "cell_type": "code",
   "execution_count": null,
   "id": "91c4f001-56a6-48f8-8ccf-ded87efdb485",
   "metadata": {},
   "outputs": [],
   "source": []
  },
  {
   "cell_type": "code",
   "execution_count": null,
   "id": "9425eed0-1901-418d-a927-9c816b1d8b77",
   "metadata": {},
   "outputs": [],
   "source": []
  }
 ],
 "metadata": {
  "kernelspec": {
   "display_name": "Python 3 (ipykernel)",
   "language": "python",
   "name": "python3"
  },
  "language_info": {
   "codemirror_mode": {
    "name": "ipython",
    "version": 3
   },
   "file_extension": ".py",
   "mimetype": "text/x-python",
   "name": "python",
   "nbconvert_exporter": "python",
   "pygments_lexer": "ipython3",
   "version": "3.12.2"
  }
 },
 "nbformat": 4,
 "nbformat_minor": 5
}
